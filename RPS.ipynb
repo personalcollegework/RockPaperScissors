{
  "nbformat": 4,
  "nbformat_minor": 0,
  "metadata": {
    "colab": {
      "provenance": []
    },
    "kernelspec": {
      "name": "python3",
      "display_name": "Python 3"
    },
    "language_info": {
      "name": "python"
    }
  },
  "cells": [
    {
      "cell_type": "code",
      "execution_count": null,
      "metadata": {
        "id": "LzBWHwD5F21N"
      },
      "outputs": [],
      "source": [
        "import random\n",
        "\n",
        "def play_game(player_choice):\n",
        "    choices = [\"rock\", \"paper\", \"scissors\"]\n",
        "    computer_choice = random.choice(choices)\n",
        "\n",
        "    if player_choice == computer_choice:\n",
        "        return \"It's a tie!\"\n",
        "    elif (\n",
        "        (player_choice == \"rock\" and computer_choice == \"scissors\") or\n",
        "        (player_choice == \"paper\" and computer_choice == \"rock\") or\n",
        "        (player_choice == \"scissors\" and computer_choice == \"paper\")\n",
        "    ):\n",
        "        return \"You win!\"\n",
        "    else:\n",
        "        return \"Computer wins!\"\n",
        "\n",
        "player_choice = input(\"Enter your choice (rock, paper, scissors): \")\n",
        "print(play_game(player_choice))\n"
      ]
    }
  ]
}